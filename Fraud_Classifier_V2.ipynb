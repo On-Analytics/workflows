{
 "cells": [
  {
   "cell_type": "markdown",
   "metadata": {},
   "source": [
    "## Purpose\n",
    "\n",
    "This notebook implements an automated fraud inquiry analysis pipeline that processes customer fraud complaints to extract structured information, assess risk levels, and prioritize cases for review. The system uses Large Language Models (LLMs) combined with business logic to transform unstructured text documents into actionable intelligence for fraud investigation teams.\n",
    "\n",
    "Built using LangGraph, the pipeline is designed for easy extensibility and future enhancements. While the current implementation follows a straightforward linear workflow, the LangGraph framework enables seamless addition of complex features.\n",
    "\n",
    "The notebook serves as both a practical tool for fraud analysts and a demonstration of how AI can streamline the initial triage process of fraud cases, reducing manual workload while ensuring critical cases receive appropriate attention."
   ]
  },
  {
   "cell_type": "markdown",
   "metadata": {},
   "source": [
    "## Use Cases\n",
    "\n",
    "### Financial Institution Fraud Departments\n",
    "- Scenario: A bank receives hundreds of fraud complaints daily via email, phone transcripts, and web forms.\n",
    "- Application: Automatically categorize incoming reports, identify high-priority cases (large monetary losses, urgent language), and route them to appropriate specialists\n",
    "- Benefit: Reduces initial triage time from hours to minutes, ensures critical cases aren't missed in high-volume periods\n",
    "\n",
    "### Customer Service Operations\n",
    "- Scenario: Multi-channel customer complaints about fraudulent activities need consistent handling regardless of source.\n",
    "- Application: Process complaints from various channels (chat logs, emails, call transcripts) into standardized format for case management systems\n",
    "- Benefit: Ensures consistent service quality, reduces response time for urgent cases"
   ]
  },
  {
   "cell_type": "markdown",
   "metadata": {},
   "source": [
    "## Key Components\n",
    "\n",
    "### Core Architecture\n",
    "- Unified State Management: Single FraudState Pydantic model that tracks all case information throughout the processing pipeline\n",
    "- LangGraph Workflow: Structured processing pipeline with four sequential nodes: ingestion → analysis → scoring → reporting\n",
    "- Single LLM Analysis: Comprehensive extraction of all relevant information in one API call for efficiency and consistency\n",
    "\n",
    "### Processing Pipeline\n",
    "- Document Ingestion: Loads fraud inquiry text files from the file system\n",
    "- AI-Powered Analysis: Uses GPT-4o-mini to extract structured information including:\n",
    "    Case summary\n",
    "    Fraud categories and subcategories\n",
    "    Attack channels/vectors\n",
    "    Monetary impact\n",
    "    Urgency indicators\n",
    "- Risk Assessment: Applies business rules to determine risk scores and human review requirements\n",
    "- Report Generation: Produces clean, structured output suitable for downstream systems\n",
    "\n",
    "### Output Features\n",
    "- Results saved as both JSON (for systems integration) and CSV (for human analysis)\n",
    "- Automatic flagging of cases requiring human review"
   ]
  },
  {
   "cell_type": "markdown",
   "metadata": {},
   "source": [
    "## Conclusion\n",
    "\n",
    "This fraud analysis pipeline demonstrates how AI can effectively automate the initial triage of fraud cases. The system combines LLM-powered information extraction with structured business logic to transform unstructured complaints into actionable insights, reducing manual processing time while ensuring critical cases receive immediate attention. "
   ]
  },
  {
   "cell_type": "markdown",
   "metadata": {},
   "source": [
    "## 1. Setup & Dependencies"
   ]
  },
  {
   "cell_type": "code",
   "execution_count": 1,
   "metadata": {},
   "outputs": [],
   "source": [
    "# !pip install pydantic langchain_openai python-dotenv langgraph\n",
    "import os\n",
    "from dotenv import load_dotenv\n",
    "from typing import Optional, List, Dict, Any, Literal\n",
    "from pydantic import BaseModel, Field\n",
    "from pathlib import Path\n",
    "from datetime import datetime\n",
    "import json, csv, glob\n",
    "\n",
    "# Load environment variables\n",
    "load_dotenv()\n",
    "\n",
    "# Initialize LLM\n",
    "from langchain_openai import ChatOpenAI\n",
    "llm = ChatOpenAI(model=\"gpt-4o-mini\", temperature=0)"
   ]
  },
  {
   "cell_type": "markdown",
   "metadata": {},
   "source": [
    "## 2. FraudData Schema\n",
    "Define the state model for fraud analysis. This model tracks all relevant information for each case as it moves through the pipeline."
   ]
  },
  {
   "cell_type": "code",
   "execution_count": 2,
   "metadata": {},
   "outputs": [],
   "source": [
    "class FraudAnalysisState(BaseModel):\n",
    "    \"\"\"Single comprehensive state model for fraud analysis\"\"\"\n",
    "    \n",
    "    # File and document info\n",
    "    source_path: Optional[str] = None\n",
    "    file_path: Optional[str] = None\n",
    "    raw_text: Optional[str] = None\n",
    "    \n",
    "    # LLM extracted fields\n",
    "    summary: Optional[str] = Field(default=None, description=\"Brief summary of the fraud inquiry\")\n",
    "    categories: List[str] = Field(default_factory=lambda: [\"Unknown\"], description=\"Top-level fraud categories\")\n",
    "    subcategories: List[str] = Field(default_factory=lambda: [\"Unknown\"], description=\"Specific fraud types\")\n",
    "    channels: List[str] = Field(default_factory=lambda: [\"Unknown\"], description=\"Communication/attack vectors\")\n",
    "    monetary_impact: Optional[float] = Field(default=None, description=\"Estimated monetary impact\")\n",
    "    urgency: bool = Field(default=False, description=\"Whether case requires urgent attention base on the time sensitivity\")\n",
    "    extraction_reason: Optional[str] = Field(default=None, description=\"Explanation for classification\")\n",
    "    \n",
    "    # Computed fields\n",
    "    risk_score: Literal[\"Low\", \"Medium\", \"High\"] = \"Low\"\n",
    "    needs_human_review: bool = False\n",
    "    processing_timestamp: str = \"\"\n"
   ]
  },
  {
   "cell_type": "markdown",
   "metadata": {},
   "source": [
    "## 3. Core Functions"
   ]
  },
  {
   "cell_type": "code",
   "execution_count": 3,
   "metadata": {},
   "outputs": [],
   "source": [
    "def document_ingestion(state: FraudAnalysisState) -> FraudAnalysisState:\n",
    "    \"\"\"Load document content from file\"\"\"\n",
    "    path = Path(state.file_path)\n",
    "    with open(path, 'r', encoding='utf-8') as f:\n",
    "        state.raw_text = f.read()\n",
    "    return state\n",
    "\n",
    "def comprehensive_analysis(state: FraudAnalysisState) -> FraudAnalysisState:\n",
    "    \"\"\"Single LLM call to extract all information at once\"\"\"\n",
    "    prompt = f'''\n",
    "You are an expert fraud analyst. Analyze the following fraud inquiry document and extract ALL the requested information in a single response.\n",
    "\n",
    "IMPORTANT: Return your response as a valid JSON object with these exact fields:\n",
    "\n",
    "{{\n",
    "  \"summary\": \"Brief 1-2 sentence summary of the inquiry\",\n",
    "  \"categories\": [\"List of top-level fraud categories\"],\n",
    "  \"subcategories\": [\"List of specific fraud types\"],\n",
    "  \"channels\": [\"List of communication/attack vectors\"],\n",
    "  \"monetary_impact\": numeric_value_or_null,\n",
    "  \"urgency\": true_or_false,\n",
    "  \"extraction_reason\": \"Short explanation for your classifications\"\n",
    "}}\n",
    "\n",
    "Guidelines:\n",
    "- For categories, subcategories, channels: Use \"Unknown\" if you cannot determine, \"Ambiguous\" if unclear\n",
    "- For urgency: True if client language indicates immediate need (words like \"immediately\", \"ASAP\", \"help now\", etc.)\n",
    "- For monetary_impact: Extract numeric value if mentioned, otherwise null\n",
    "- Keep extraction_reason concise (1-2 sentences max)\n",
    "\n",
    "Examples:\n",
    "\n",
    "EXAMPLE 1:\n",
    "Document: \"I need help immediately! Someone stole $2,500 from my account through a fake bank email!\"\n",
    "Response:\n",
    "{{\n",
    "  \"summary\": \"Customer fell victim to phishing email impersonating bank, lost $2,500\",\n",
    "  \"categories\": [\"Digital Fraud\", \"Identity Fraud\"],\n",
    "  \"subcategories\": [\"Phishing\", \"Account Takeover\"],\n",
    "  \"channels\": [\"Email\", \"Online Banking\"],\n",
    "  \"monetary_impact\": 2500.0,\n",
    "  \"urgency\": true,\n",
    "  \"extraction_reason\": \"Clear phishing case with explicit urgency request and significant monetary loss\"\n",
    "}}\n",
    "\n",
    "EXAMPLE 2:\n",
    "Document: \"I noticed a $15 charge I don't recognize, can you look into it when possible?\"\n",
    "Response:\n",
    "{{\n",
    "  \"summary\": \"Customer reporting unrecognized $15 charge, non-urgent inquiry\",\n",
    "  \"categories\": [\"Payment Fraud\"],\n",
    "  \"subcategories\": [\"Unauthorized Transaction\"],\n",
    "  \"channels\": [\"Unknown\"],\n",
    "  \"monetary_impact\": 15.0,\n",
    "  \"urgency\": false,\n",
    "  \"extraction_reason\": \"Small unauthorized charge, no urgency indicated by customer\"\n",
    "}}\n",
    "\n",
    "Now analyze this document:\n",
    "{state.raw_text}\n",
    "'''\n",
    "    response = llm.invoke(prompt)\n",
    "    try:\n",
    "        result = json.loads(response.content.strip())\n",
    "        state.summary = result.get(\"summary\")\n",
    "        state.categories = result.get(\"categories\", [\"Unknown\"])\n",
    "        state.subcategories = result.get(\"subcategories\", [\"Unknown\"])\n",
    "        state.channels = result.get(\"channels\", [\"Unknown\"])\n",
    "        state.monetary_impact = result.get(\"monetary_impact\")\n",
    "        state.urgency = result.get(\"urgency\", False)\n",
    "        state.extraction_reason = result.get(\"extraction_reason\")\n",
    "        state.processing_timestamp = datetime.now().isoformat()\n",
    "    except json.JSONDecodeError:\n",
    "        state.extraction_reason = 'Failed to parse LLM response'\n",
    "        state.needs_human_review = True\n",
    "    return state\n",
    "\n",
    "def apply_business_rules(state: FraudAnalysisState) -> FraudAnalysisState:\n",
    "    \"\"\"Apply business logic for risk scoring and human review flags\"\"\"\n",
    "    if state.monetary_impact and state.monetary_impact > 10000:\n",
    "        state.risk_score = 'High'\n",
    "    elif state.urgency:\n",
    "        state.risk_score = 'Medium'\n",
    "    else:\n",
    "        state.risk_score = 'Low'\n",
    "    has_unknowns = (\n",
    "        any(c == 'Unknown' for c in state.categories) or\n",
    "        any(sc == 'Unknown' for sc in state.subcategories) or\n",
    "        any(ch == 'Unknown' for ch in state.channels)\n",
    "    )\n",
    "    state.needs_human_review = (\n",
    "        has_unknowns or \n",
    "        state.risk_score == 'High' or\n",
    "        not state.extraction_reason\n",
    "    )\n",
    "    return state\n",
    "\n",
    "def generate_report(state: FraudAnalysisState) -> Dict[str, Any]:\n",
    "    \"\"\"Generate final report, removing internal fields\"\"\"\n",
    "    output = state.model_dump()\n",
    "    for field in ['raw_text', 'file_path']:\n",
    "        output.pop(field, None)\n",
    "    return output"
   ]
  },
  {
   "cell_type": "markdown",
   "metadata": {},
   "source": [
    "## 4. LangGraph Workflow Definition"
   ]
  },
  {
   "cell_type": "code",
   "execution_count": 4,
   "metadata": {},
   "outputs": [],
   "source": [
    "from langgraph.graph import StateGraph, START, END\n",
    "\n",
    "# Graph definition\n",
    "fraud_graph = StateGraph(FraudAnalysisState)\n",
    "\n",
    "# Graph nodes\n",
    "fraud_graph.add_node('ingest', document_ingestion)\n",
    "fraud_graph.add_node('analyze', comprehensive_analysis)\n",
    "fraud_graph.add_node('apply_rules', apply_business_rules)\n",
    "fraud_graph.add_node('report', generate_report)\n",
    "\n",
    "# Graph edges\n",
    "fraud_graph.add_edge(START, 'ingest')\n",
    "fraud_graph.add_edge('ingest', 'analyze')\n",
    "fraud_graph.add_edge('analyze', 'apply_rules')\n",
    "fraud_graph.add_edge('apply_rules', 'report')\n",
    "fraud_graph.add_edge('report', END)\n",
    "\n",
    "# Graph compilation\n",
    "fraud_graph = fraud_graph.compile()"
   ]
  },
  {
   "cell_type": "code",
   "execution_count": 5,
   "metadata": {},
   "outputs": [
    {
     "data": {
      "image/png": "[encoded data removed]",
      "text/plain": [
       "<IPython.core.display.Image object>"
      ]
     },
     "metadata": {},
     "output_type": "display_data"
    }
   ],
   "source": [
    "from IPython.display import Image, display\n",
    "\n",
    "# Create and display the graph\n",
    "display(Image(fraud_graph.get_graph(xray=True).draw_mermaid_png()))"
   ]
  },
  {
   "cell_type": "markdown",
   "metadata": {},
   "source": [
    "## 5. Processing Functions "
   ]
  },
  {
   "cell_type": "code",
   "execution_count": 6,
   "metadata": {},
   "outputs": [],
   "source": [
    "def run_fraud_analysis(file_path: str) -> Dict[str, Any]:\n",
    "    \"\"\"Run fraud analysis on a single file.\"\"\"\n",
    "    state = FraudAnalysisState(source_path=os.path.basename(file_path), file_path=file_path)\n",
    "    result = fraud_graph.invoke(state)\n",
    "    return result\n",
    "\n",
    "def process_files_individually(claims_folder: str) -> List[Dict[str, Any]]:\n",
    "    \"\"\"Process files individually.\"\"\"\n",
    "    txt_files = glob.glob(os.path.join(claims_folder, '*.txt'))\n",
    "    results = []\n",
    "    print(f'Found {len(txt_files)} files to process')\n",
    "    print('=' * 50)\n",
    "    for i, txt_file in enumerate(txt_files, 1):\n",
    "        print(f'Processing ({i}/{len(txt_files)}): {os.path.basename(txt_file)}')\n",
    "        try:\n",
    "            result = run_fraud_analysis(txt_file)\n",
    "            results.append(result)\n",
    "        except Exception as e:\n",
    "            print(f'  → ❌ ERROR: {e}')\n",
    "            error_result = {\n",
    "                'source_path': os.path.basename(txt_file),\n",
    "                'error': str(e),\n",
    "                'needs_human_review': True,\n",
    "                'risk_score': 'High',\n",
    "                'processing_timestamp': datetime.now().isoformat()\n",
    "            }\n",
    "            results.append(error_result)\n",
    "        print()\n",
    "    return results\n",
    "\n",
    "def export_results(results: List[Dict[str, Any]], output_dir: str):\n",
    "    \"\"\"Export results to JSON and CSV.\"\"\"\n",
    "    os.makedirs(output_dir, exist_ok=True)\n",
    "    timestamp = datetime.now().strftime('%Y%m%d_%H%M%S')\n",
    "    json_path = os.path.join(output_dir, f'fraud_results_{timestamp}.json')\n",
    "    with open(json_path, 'w', encoding='utf-8') as f:\n",
    "        json.dump(results, f, indent=2, ensure_ascii=False)\n",
    "    print(f'✅ Results saved as JSON: {json_path}')\n",
    "    if results:\n",
    "        csv_path = os.path.join(output_dir, f'fraud_results_{timestamp}.csv')\n",
    "        all_keys = sorted(set().union(*(r.keys() for r in results)))\n",
    "        with open(csv_path, 'w', newline='', encoding='utf-8') as f:\n",
    "            writer = csv.DictWriter(f, fieldnames=all_keys)\n",
    "            writer.writeheader()\n",
    "            writer.writerows(results)\n",
    "        print(f'✅ Results saved as CSV: {csv_path}')\n",
    "\n",
    "def print_summary(results: List[Dict[str, Any]]):\n",
    "    \"\"\"Print processing summary.\"\"\"\n",
    "    total = len(results)\n",
    "    review_needed = sum(1 for r in results if r.get('needs_human_review', False))\n",
    "    high_risk = sum(1 for r in results if r.get('risk_score') == 'High')\n",
    "    errors = sum(1 for r in results if 'error' in r)\n",
    "    print('=' * 50)\n",
    "    print('📊 PROCESSING SUMMARY')\n",
    "    print('=' * 50)\n",
    "    print(f'Total files processed: {total}')\n",
    "    print(f'Files needing human review: {review_needed}')\n",
    "    print(f'High risk cases: {high_risk}')\n",
    "    print(f'Processing errors: {errors}')\n",
    "    print(f'Auto-processed successfully: {total - review_needed}')"
   ]
  },
  {
   "cell_type": "markdown",
   "metadata": {},
   "source": [
    "## 6. Running the Pipeline"
   ]
  },
  {
   "cell_type": "code",
   "execution_count": 7,
   "metadata": {
    "tags": []
   },
   "outputs": [
    {
     "name": "stdout",
     "output_type": "stream",
     "text": [
      "🔍 Looking for files in: C:\\Users\\Oscar\\Documents\\Python\\Artificial_Inteligence\\Workflows_Projects\\Agents\\Fraud_Claims_Classifier\\Claims\n",
      "Found 10 files to process\n",
      "==================================================\n",
      "Processing (1/10): 001.txt\n",
      "\n",
      "Processing (2/10): 002.txt\n",
      "\n",
      "Processing (3/10): 003.txt\n",
      "\n",
      "Processing (4/10): 004.txt\n",
      "\n",
      "Processing (5/10): 005.txt\n",
      "\n",
      "Processing (6/10): 006.txt\n",
      "\n",
      "Processing (7/10): 007.txt\n",
      "\n",
      "Processing (8/10): 008.txt\n",
      "\n",
      "Processing (9/10): 009.txt\n",
      "\n",
      "Processing (10/10): 010.txt\n",
      "\n",
      "==================================================\n",
      "📊 PROCESSING SUMMARY\n",
      "==================================================\n",
      "Total files processed: 10\n",
      "Files needing human review: 4\n",
      "High risk cases: 0\n",
      "Processing errors: 0\n",
      "Auto-processed successfully: 6\n",
      "✅ Results saved as JSON: C:\\Users\\Oscar\\Documents\\Python\\Artificial_Inteligence\\Workflows_Projects\\Agents\\Fraud_Claims_Classifier\\Output\\fraud_results_20250725_113335.json\n",
      "✅ Results saved as CSV: C:\\Users\\Oscar\\Documents\\Python\\Artificial_Inteligence\\Workflows_Projects\\Agents\\Fraud_Claims_Classifier\\Output\\fraud_results_20250725_113335.csv\n",
      "✅ Individual file processing complete!\n"
     ]
    }
   ],
   "source": [
    "# Example execution that processes all files in the Claims folder and exports results.\n",
    "script_dir = os.path.dirname(os.path.abspath('Fraud_Classifier_V2.ipynb'))\n",
    "claims_folder = os.path.join(script_dir, 'Claims')\n",
    "output_dir = os.path.join(script_dir, 'Output')\n",
    "\n",
    "print(f'🔍 Looking for files in: {claims_folder}')\n",
    "\n",
    "results = process_files_individually(claims_folder)\n",
    "print_summary(results)\n",
    "export_results(results, output_dir)\n",
    "\n",
    "print('✅ Individual file processing complete!')"
   ]
  },
  {
   "cell_type": "code",
   "execution_count": 8,
   "metadata": {
    "tags": []
   },
   "outputs": [
    {
     "name": "stdout",
     "output_type": "stream",
     "text": [
      "\n",
      "📄 Example result from JSON file:\n",
      "{\n",
      "  \"source_path\": \"001.txt\",\n",
      "  \"file_path\": \"C:\\\\Users\\\\Oscar\\\\Documents\\\\Python\\\\Artificial_Inteligence\\\\Workflows_Projects\\\\Agents\\\\Fraud_Claims_Classifier\\\\Claims\\\\001.txt\",\n",
      "  \"raw_text\": \"I noticed an unauthorized charge of $1,250 on my account on July 13, 2025, made to a merchant listed as “CryptoPay Ltd.” I did not authorize this transaction and have never interacted with this company. I suspect my card information may have been compromised. I immediately locked my card and am requesting a full investigation and reimbursement of the stolen funds.\",\n",
      "  \"summary\": \"Customer reports an unauthorized $1,250 charge from CryptoPay Ltd., suspects card information compromise.\",\n",
      "  \"categories\": [\n",
      "    \"Payment Fraud\",\n",
      "    \"Identity Fraud\"\n",
      "  ],\n",
      "  \"subcategories\": [\n",
      "    \"Unauthorized Transaction\",\n",
      "    \"Card Compromise\"\n",
      "  ],\n",
      "  \"channels\": [\n",
      "    \"Unknown\"\n",
      "  ],\n",
      "  \"monetary_impact\": 1250.0,\n",
      "  \"urgency\": true,\n",
      "  \"extraction_reason\": \"Customer indicates immediate action taken and requests a full investigation, highlighting urgency and significant monetary loss.\",\n",
      "  \"risk_score\": \"Medium\",\n",
      "  \"needs_human_review\": true,\n",
      "  \"processing_timestamp\": \"2025-07-25T11:33:12.799849\"\n",
      "}\n"
     ]
    }
   ],
   "source": [
    "import os\n",
    "import glob\n",
    "import json\n",
    "\n",
    "# Set your output directory path\n",
    "output_dir = \"Output\"  # adjust this if your output folder is elsewhere\n",
    "\n",
    "# Find the latest JSON results file\n",
    "json_files = sorted(glob.glob(os.path.join(output_dir, 'fraud_results_*.json')), reverse=True)\n",
    "if json_files:\n",
    "    json_path = json_files[0]\n",
    "    with open(json_path, 'r', encoding='utf-8') as f:\n",
    "        loaded_results = json.load(f)\n",
    "    if loaded_results:\n",
    "        print(\"\\n📄 Example result from JSON file:\")\n",
    "        print(json.dumps(loaded_results[0], indent=2, ensure_ascii=False))\n",
    "    else:\n",
    "        print(\"No results found in the JSON file.\")\n",
    "else:\n",
    "    print(\"No JSON results file found to showcase.\")"
   ]
  }
 ],
 "metadata": {
  "kernelspec": {
   "display_name": "Python 3 (ipykernel)",
   "language": "python",
   "name": "python3"
  },
  "language_info": {
   "codemirror_mode": {
    "name": "ipython",
    "version": 3
   },
   "file_extension": ".py",
   "mimetype": "text/x-python",
   "name": "python",
   "nbconvert_exporter": "python",
   "pygments_lexer": "ipython3",
   "version": "3.11.1"
  }
 },
 "nbformat": 4,
 "nbformat_minor": 4
}
